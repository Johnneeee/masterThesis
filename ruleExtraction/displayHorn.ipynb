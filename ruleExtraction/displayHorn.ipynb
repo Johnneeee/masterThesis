{
 "cells": [
  {
   "cell_type": "code",
   "execution_count": 1,
   "id": "5ac6abb7-5b59-4df9-8ecf-fdfd8cb613ed",
   "metadata": {},
   "outputs": [],
   "source": [
    "\"\"\" Set the parameters for the desired experiment \"\"\"\n",
    "\n",
    "ex = 1  # defines the number of experiments per setup\n",
    "# lm = 'roberta-base'\n",
    "lm = \"bert-base-multilingual-cased\"\n",
    "eq = 20\n",
    "\n",
    "from displayRules import *\n",
    "\n",
    "\n",
    "background = load_background()\n",
    "all_negations = []\n",
    "all_implications = []\n",
    "h = load_rules(lm, eq, ex)\n",
    "all_rules = get_all_rules(h, background)\n",
    "(rules, negations, implications) = make_rule_lists(all_rules)\n",
    "all_negations = [*all_negations, *negations]\n",
    "all_implications = [*all_implications, *implications]\n",
    "\n",
    "# print(all_implications)"
   ]
  },
  {
   "cell_type": "code",
   "execution_count": null,
   "id": "496f6409-c9e2-43a3-9bd7-53dddd1de079",
   "metadata": {},
   "outputs": [],
   "source": []
  },
  {
   "cell_type": "code",
   "execution_count": 2,
   "id": "99546492-bb50-4df2-a048-7b1f660d8cf1",
   "metadata": {},
   "outputs": [
    {
     "ename": "NameError",
     "evalue": "name 'lookup' is not defined",
     "output_type": "error",
     "traceback": [
      "\u001b[1;31m---------------------------------------------------------------------------\u001b[0m",
      "\u001b[1;31mNameError\u001b[0m                                 Traceback (most recent call last)",
      "Cell \u001b[1;32mIn[2], line 4\u001b[0m\n\u001b[0;32m      2\u001b[0m implications_count \u001b[38;5;241m=\u001b[39m count_lists(all_implications)\n\u001b[0;32m      3\u001b[0m \u001b[38;5;66;03m# print(implications_count)\u001b[39;00m\n\u001b[1;32m----> 4\u001b[0m print_all_counted_rules(negations_count, implications_count, lookup)\n",
      "\u001b[1;31mNameError\u001b[0m: name 'lookup' is not defined"
     ]
    }
   ],
   "source": [
    "negations_count = count_lists(all_negations)\n",
    "implications_count = count_lists(all_implications)\n",
    "# print(implications_count)\n",
    "print_all_counted_rules(negations_count, implications_count, lookup)"
   ]
  }
 ],
 "metadata": {
  "kernelspec": {
   "display_name": "Python 3 (ipykernel)",
   "language": "python",
   "name": "python3"
  },
  "language_info": {
   "codemirror_mode": {
    "name": "ipython",
    "version": 3
   },
   "file_extension": ".py",
   "mimetype": "text/x-python",
   "name": "python",
   "nbconvert_exporter": "python",
   "pygments_lexer": "ipython3",
   "version": "3.12.7"
  }
 },
 "nbformat": 4,
 "nbformat_minor": 5
}
