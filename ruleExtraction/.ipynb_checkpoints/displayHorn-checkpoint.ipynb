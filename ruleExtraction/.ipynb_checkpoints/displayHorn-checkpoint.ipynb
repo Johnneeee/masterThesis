{
 "cells": [
  {
   "cell_type": "code",
   "execution_count": 1,
   "id": "5ac6abb7-5b59-4df9-8ecf-fdfd8cb613ed",
   "metadata": {},
   "outputs": [
    {
     "ename": "NameError",
     "evalue": "name 'load_background' is not defined",
     "output_type": "error",
     "traceback": [
      "\u001b[1;31m---------------------------------------------------------------------------\u001b[0m",
      "\u001b[1;31mNameError\u001b[0m                                 Traceback (most recent call last)",
      "Cell \u001b[1;32mIn[1], line 8\u001b[0m\n\u001b[0;32m      5\u001b[0m lm \u001b[38;5;241m=\u001b[39m \u001b[38;5;124m\"\u001b[39m\u001b[38;5;124mbert-base-multilingual-cased\u001b[39m\u001b[38;5;124m\"\u001b[39m\n\u001b[0;32m      6\u001b[0m eq \u001b[38;5;241m=\u001b[39m \u001b[38;5;241m20\u001b[39m\n\u001b[1;32m----> 8\u001b[0m background \u001b[38;5;241m=\u001b[39m load_background()\n\u001b[0;32m      9\u001b[0m all_negations \u001b[38;5;241m=\u001b[39m []\n\u001b[0;32m     10\u001b[0m all_implications \u001b[38;5;241m=\u001b[39m []\n",
      "\u001b[1;31mNameError\u001b[0m: name 'load_background' is not defined"
     ]
    }
   ],
   "source": [
    "\"\"\" Set the parameters for the desired experiment \"\"\"\n",
    "\n",
    "ex = 1  # defines the number of experiments per setup\n",
    "# lm = 'roberta-base'\n",
    "lm = \"bert-base-multilingual-cased\"\n",
    "eq = 20\n",
    "\n",
    "from re_eval_methods import *\n",
    "\n",
    "background = load_background()\n",
    "all_negations = []\n",
    "all_implications = []\n",
    "h = load_rules(lm, eq, ex)\n",
    "all_rules = get_all_rules(h, background)\n",
    "(rules, negations, implications) = make_rule_lists(all_rules)\n",
    "all_negations = [*all_negations, *negations]\n",
    "all_implications = [*all_implications, *implications]\n",
    "\n",
    "# print(all_implications)"
   ]
  }
 ],
 "metadata": {
  "kernelspec": {
   "display_name": "Python 3 (ipykernel)",
   "language": "python",
   "name": "python3"
  },
  "language_info": {
   "codemirror_mode": {
    "name": "ipython",
    "version": 3
   },
   "file_extension": ".py",
   "mimetype": "text/x-python",
   "name": "python",
   "nbconvert_exporter": "python",
   "pygments_lexer": "ipython3",
   "version": "3.12.7"
  }
 },
 "nbformat": 4,
 "nbformat_minor": 5
}
