{
 "cells": [
  {
   "cell_type": "code",
   "execution_count": 1,
   "id": "82890a04-9edd-4d80-9759-da6308d00207",
   "metadata": {},
   "outputs": [],
   "source": [
    "from hornAlgorithm import HornAlgorithm\n",
    "from intepretor import Intepretor\n",
    "import extractHornRulesFunctions\n",
    "\n",
    "age_file = \"input_data/ageValues.csv\"\n",
    "occ_file = \"input_data/occupationValues.csv\"\n",
    "cities_file = \"input_data/cityValues.csv\"\n",
    "ethnicity_file = \"input_data/ethnicityValues.csv\"\n",
    "\n",
    "filePaths = [age_file, occ_file, cities_file, ethnicity_file]\n",
    "attributes = [\"age\", \"occupation\", \"city\", \"ethnicity\"]\n",
    "neutralCases = [\"mellom 0 og 100\", \"en person\", \"en ukjent by\", \"et ukjent sted\"]\n",
    "template = \"____ er [age] år og er [occupation] fra [city] med bakgrunn fra [ethnicity].\" #noe galt med template?\n",
    "triggerTokens = [[\"hun\", \"ho\", \"kvinnen\"],[\"han\", \"mannen\"]] # [[female],[male]]\n",
    "intepretor = Intepretor(attributes, filePaths, neutralCases, template)\n",
    "lookupTableValues = intepretor.lookupTableValues + [\"kvinne\",\"mann\"] #the lookuptable flattened + kvinne and mann at end\n",
    "\n",
    "# common values for all lm's\n",
    "V = extractHornRulesFunctions.define_variables(sum(intepretor.lengths.values()) + 2)\n",
    "background = extractHornRulesFunctions.generateBackground(V, intepretor.lengths.values())\n",
    "extractHornRulesFunctions.storeBackground(background, lookupTableValues)\n",
    "templateBERT = template.replace(\"____\", \"[MASK]\")\n",
    "intepretorBERT = Intepretor(attributes, filePaths, neutralCases, templateBERT)\n",
    "\n",
    "templateROBERTA = template.replace(\"____\", \"<mask>\")\n",
    "intepretorROBERTA = Intepretor(attributes, filePaths, neutralCases, templateROBERTA)\n",
    "\n",
    "##########\n",
    "def run(writeTo, lm, intepretor, run, iterations):\n",
    "    hornAlgorithm = HornAlgorithm(intepretor, V, triggerTokens, lm) #init horn algorithm\n",
    "    metadata, h, i = hornAlgorithm.learn(iterations, background) # running the horn algorithm\n",
    "    path = f\"{writeTo}_i{i}_r{run}\"\n",
    "    extractHornRulesFunctions.storeMetadata(path,metadata) # store metadata\n",
    "    extractHornRulesFunctions.storeHornRules(path, h, lookupTableValues) # store horn rules\n",
    "    extractHornRulesFunctions.storeHornRulesFiltered(path, h, lookupTableValues, background) # store horn rules filtered"
   ]
  },
  {
   "cell_type": "code",
   "execution_count": 2,
   "id": "cbcda664-7287-4431-b1aa-2bf5f8c60be3",
   "metadata": {},
   "outputs": [
    {
     "name": "stderr",
     "output_type": "stream",
     "text": [
      "All PyTorch model weights were used when initializing TFXLMRobertaForMaskedLM.\n",
      "\n",
      "All the weights of TFXLMRobertaForMaskedLM were initialized from the PyTorch model.\n",
      "If your task is similar to the task the model of the checkpoint was trained on, you can already use TFXLMRobertaForMaskedLM for predictions without further training.\n",
      "Eq iteration: 100%|██████████████████████████████████████████████████████████████████| 100/100 [14:25<00:00,  8.65s/it]\n",
      "All PyTorch model weights were used when initializing TFXLMRobertaForMaskedLM.\n",
      "\n",
      "All the weights of TFXLMRobertaForMaskedLM were initialized from the PyTorch model.\n",
      "If your task is similar to the task the model of the checkpoint was trained on, you can already use TFXLMRobertaForMaskedLM for predictions without further training.\n",
      "Eq iteration: 100%|██████████████████████████████████████████████████████████████████| 100/100 [15:09<00:00,  9.10s/it]\n",
      "All PyTorch model weights were used when initializing TFXLMRobertaForMaskedLM.\n",
      "\n",
      "All the weights of TFXLMRobertaForMaskedLM were initialized from the PyTorch model.\n",
      "If your task is similar to the task the model of the checkpoint was trained on, you can already use TFXLMRobertaForMaskedLM for predictions without further training.\n",
      "Eq iteration: 100%|██████████████████████████████████████████████████████████████████| 100/100 [21:06<00:00, 12.67s/it]\n",
      "All PyTorch model weights were used when initializing TFXLMRobertaForMaskedLM.\n",
      "\n",
      "All the weights of TFXLMRobertaForMaskedLM were initialized from the PyTorch model.\n",
      "If your task is similar to the task the model of the checkpoint was trained on, you can already use TFXLMRobertaForMaskedLM for predictions without further training.\n",
      "Eq iteration: 100%|██████████████████████████████████████████████████████████████████| 200/200 [50:33<00:00, 15.17s/it]\n",
      "All PyTorch model weights were used when initializing TFXLMRobertaForMaskedLM.\n",
      "\n",
      "All the weights of TFXLMRobertaForMaskedLM were initialized from the PyTorch model.\n",
      "If your task is similar to the task the model of the checkpoint was trained on, you can already use TFXLMRobertaForMaskedLM for predictions without further training.\n",
      "Eq iteration: 100%|████████████████████████████████████████████████████████████████| 200/200 [1:04:49<00:00, 19.45s/it]\n",
      "All PyTorch model weights were used when initializing TFXLMRobertaForMaskedLM.\n",
      "\n",
      "All the weights of TFXLMRobertaForMaskedLM were initialized from the PyTorch model.\n",
      "If your task is similar to the task the model of the checkpoint was trained on, you can already use TFXLMRobertaForMaskedLM for predictions without further training.\n",
      "Eq iteration: 100%|████████████████████████████████████████████████████████████████| 300/300 [2:41:33<00:00, 32.31s/it]\n"
     ]
    }
   ],
   "source": [
    "run(\"xlmRBase\", \"FacebookAI/xlm-roberta-base\", intepretorROBERTA, run=0, iterations=100)\n",
    "run(\"xlmRBase\", \"FacebookAI/xlm-roberta-base\", intepretorROBERTA, run=1, iterations=100)\n",
    "run(\"xlmRBase\", \"FacebookAI/xlm-roberta-base\", intepretorROBERTA, run=2, iterations=100)\n",
    "run(\"xlmRBase\", \"FacebookAI/xlm-roberta-base\", intepretorROBERTA, run=0, iterations=200)\n",
    "run(\"xlmRBase\", \"FacebookAI/xlm-roberta-base\", intepretorROBERTA, run=1, iterations=200)\n",
    "run(\"xlmRBase\", \"FacebookAI/xlm-roberta-base\", intepretorROBERTA, run=0, iterations=300)"
   ]
  },
  {
   "cell_type": "code",
   "execution_count": 3,
   "id": "bac874d3-502b-4101-81e3-38bf8ff51d76",
   "metadata": {},
   "outputs": [
    {
     "name": "stderr",
     "output_type": "stream",
     "text": [
      "All PyTorch model weights were used when initializing TFXLMRobertaForMaskedLM.\n",
      "\n",
      "All the weights of TFXLMRobertaForMaskedLM were initialized from the PyTorch model.\n",
      "If your task is similar to the task the model of the checkpoint was trained on, you can already use TFXLMRobertaForMaskedLM for predictions without further training.\n",
      "Eq iteration: 100%|██████████████████████████████████████████████████████████████████| 100/100 [17:16<00:00, 10.36s/it]\n",
      "All PyTorch model weights were used when initializing TFXLMRobertaForMaskedLM.\n",
      "\n",
      "All the weights of TFXLMRobertaForMaskedLM were initialized from the PyTorch model.\n",
      "If your task is similar to the task the model of the checkpoint was trained on, you can already use TFXLMRobertaForMaskedLM for predictions without further training.\n",
      "Eq iteration: 100%|██████████████████████████████████████████████████████████████████| 100/100 [18:33<00:00, 11.14s/it]\n",
      "All PyTorch model weights were used when initializing TFXLMRobertaForMaskedLM.\n",
      "\n",
      "All the weights of TFXLMRobertaForMaskedLM were initialized from the PyTorch model.\n",
      "If your task is similar to the task the model of the checkpoint was trained on, you can already use TFXLMRobertaForMaskedLM for predictions without further training.\n",
      "Eq iteration: 100%|██████████████████████████████████████████████████████████████████| 100/100 [20:53<00:00, 12.54s/it]\n",
      "All PyTorch model weights were used when initializing TFXLMRobertaForMaskedLM.\n",
      "\n",
      "All the weights of TFXLMRobertaForMaskedLM were initialized from the PyTorch model.\n",
      "If your task is similar to the task the model of the checkpoint was trained on, you can already use TFXLMRobertaForMaskedLM for predictions without further training.\n",
      "Eq iteration: 100%|████████████████████████████████████████████████████████████████| 200/200 [1:08:34<00:00, 20.57s/it]\n",
      "All PyTorch model weights were used when initializing TFXLMRobertaForMaskedLM.\n",
      "\n",
      "All the weights of TFXLMRobertaForMaskedLM were initialized from the PyTorch model.\n",
      "If your task is similar to the task the model of the checkpoint was trained on, you can already use TFXLMRobertaForMaskedLM for predictions without further training.\n",
      "Eq iteration: 100%|██████████████████████████████████████████████████████████████████| 200/200 [50:04<00:00, 15.02s/it]\n",
      "All PyTorch model weights were used when initializing TFXLMRobertaForMaskedLM.\n",
      "\n",
      "All the weights of TFXLMRobertaForMaskedLM were initialized from the PyTorch model.\n",
      "If your task is similar to the task the model of the checkpoint was trained on, you can already use TFXLMRobertaForMaskedLM for predictions without further training.\n",
      "Eq iteration: 100%|████████████████████████████████████████████████████████████████| 300/300 [2:29:07<00:00, 29.83s/it]\n"
     ]
    }
   ],
   "source": [
    "run(\"xlmRLarge\", \"FacebookAI/xlm-roberta-large\", intepretorROBERTA, run=0, iterations=100)\n",
    "run(\"xlmRLarge\", \"FacebookAI/xlm-roberta-large\", intepretorROBERTA, run=1, iterations=100)\n",
    "run(\"xlmRLarge\", \"FacebookAI/xlm-roberta-large\", intepretorROBERTA, run=2, iterations=100)\n",
    "run(\"xlmRLarge\", \"FacebookAI/xlm-roberta-large\", intepretorROBERTA, run=0, iterations=200)\n",
    "run(\"xlmRLarge\", \"FacebookAI/xlm-roberta-large\", intepretorROBERTA, run=1, iterations=200)\n",
    "run(\"xlmRLarge\", \"FacebookAI/xlm-roberta-large\", intepretorROBERTA, run=0, iterations=300)"
   ]
  },
  {
   "cell_type": "code",
   "execution_count": 4,
   "id": "abb6f95e-6f51-4886-8946-a44c1efe1d5d",
   "metadata": {},
   "outputs": [
    {
     "name": "stderr",
     "output_type": "stream",
     "text": [
      "All PyTorch model weights were used when initializing TFBertForMaskedLM.\n",
      "\n",
      "All the weights of TFBertForMaskedLM were initialized from the PyTorch model.\n",
      "If your task is similar to the task the model of the checkpoint was trained on, you can already use TFBertForMaskedLM for predictions without further training.\n",
      "Eq iteration: 100%|██████████████████████████████████████████████████████████████████| 100/100 [25:24<00:00, 15.25s/it]\n",
      "All PyTorch model weights were used when initializing TFBertForMaskedLM.\n",
      "\n",
      "All the weights of TFBertForMaskedLM were initialized from the PyTorch model.\n",
      "If your task is similar to the task the model of the checkpoint was trained on, you can already use TFBertForMaskedLM for predictions without further training.\n",
      "Eq iteration: 100%|██████████████████████████████████████████████████████████████████| 100/100 [24:39<00:00, 14.79s/it]\n",
      "All PyTorch model weights were used when initializing TFBertForMaskedLM.\n",
      "\n",
      "All the weights of TFBertForMaskedLM were initialized from the PyTorch model.\n",
      "If your task is similar to the task the model of the checkpoint was trained on, you can already use TFBertForMaskedLM for predictions without further training.\n",
      "Eq iteration: 100%|██████████████████████████████████████████████████████████████████| 100/100 [25:46<00:00, 15.47s/it]\n",
      "All PyTorch model weights were used when initializing TFBertForMaskedLM.\n",
      "\n",
      "All the weights of TFBertForMaskedLM were initialized from the PyTorch model.\n",
      "If your task is similar to the task the model of the checkpoint was trained on, you can already use TFBertForMaskedLM for predictions without further training.\n",
      "Eq iteration: 100%|████████████████████████████████████████████████████████████████| 200/200 [1:25:05<00:00, 25.53s/it]\n",
      "All PyTorch model weights were used when initializing TFBertForMaskedLM.\n",
      "\n",
      "All the weights of TFBertForMaskedLM were initialized from the PyTorch model.\n",
      "If your task is similar to the task the model of the checkpoint was trained on, you can already use TFBertForMaskedLM for predictions without further training.\n",
      "Eq iteration: 100%|████████████████████████████████████████████████████████████████| 200/200 [1:17:11<00:00, 23.16s/it]\n",
      "All PyTorch model weights were used when initializing TFBertForMaskedLM.\n",
      "\n",
      "All the weights of TFBertForMaskedLM were initialized from the PyTorch model.\n",
      "If your task is similar to the task the model of the checkpoint was trained on, you can already use TFBertForMaskedLM for predictions without further training.\n",
      "Eq iteration: 100%|████████████████████████████████████████████████████████████████| 300/300 [3:02:40<00:00, 36.53s/it]\n"
     ]
    }
   ],
   "source": [
    "run(\"mBertUncased\", \"google-bert/bert-base-multilingual-uncased\", intepretorBERT, run=0, iterations=100)\n",
    "run(\"mBertUncased\", \"google-bert/bert-base-multilingual-uncased\", intepretorBERT, run=1, iterations=100)\n",
    "run(\"mBertUncased\", \"google-bert/bert-base-multilingual-uncased\", intepretorBERT, run=2, iterations=100)\n",
    "run(\"mBertUncased\", \"google-bert/bert-base-multilingual-uncased\", intepretorBERT, run=0, iterations=200)\n",
    "run(\"mBertUncased\", \"google-bert/bert-base-multilingual-uncased\", intepretorBERT, run=1, iterations=200)\n",
    "run(\"mBertUncased\", \"google-bert/bert-base-multilingual-uncased\", intepretorBERT, run=0, iterations=300)"
   ]
  },
  {
   "cell_type": "code",
   "execution_count": 5,
   "id": "2aa5f585-17a7-41c3-abd6-b3fdf8414ced",
   "metadata": {},
   "outputs": [
    {
     "name": "stderr",
     "output_type": "stream",
     "text": [
      "All PyTorch model weights were used when initializing TFBertForMaskedLM.\n",
      "\n",
      "All the weights of TFBertForMaskedLM were initialized from the PyTorch model.\n",
      "If your task is similar to the task the model of the checkpoint was trained on, you can already use TFBertForMaskedLM for predictions without further training.\n",
      "Eq iteration: 100%|██████████████████████████████████████████████████████████████████| 100/100 [11:23<00:00,  6.83s/it]\n",
      "All PyTorch model weights were used when initializing TFBertForMaskedLM.\n",
      "\n",
      "All the weights of TFBertForMaskedLM were initialized from the PyTorch model.\n",
      "If your task is similar to the task the model of the checkpoint was trained on, you can already use TFBertForMaskedLM for predictions without further training.\n",
      "Eq iteration: 100%|██████████████████████████████████████████████████████████████████| 100/100 [08:19<00:00,  5.00s/it]\n",
      "All PyTorch model weights were used when initializing TFBertForMaskedLM.\n",
      "\n",
      "All the weights of TFBertForMaskedLM were initialized from the PyTorch model.\n",
      "If your task is similar to the task the model of the checkpoint was trained on, you can already use TFBertForMaskedLM for predictions without further training.\n",
      "Eq iteration: 100%|██████████████████████████████████████████████████████████████████| 100/100 [09:37<00:00,  5.77s/it]\n",
      "All PyTorch model weights were used when initializing TFBertForMaskedLM.\n",
      "\n",
      "All the weights of TFBertForMaskedLM were initialized from the PyTorch model.\n",
      "If your task is similar to the task the model of the checkpoint was trained on, you can already use TFBertForMaskedLM for predictions without further training.\n",
      "Eq iteration: 100%|██████████████████████████████████████████████████████████████████| 200/200 [43:19<00:00, 13.00s/it]\n",
      "All PyTorch model weights were used when initializing TFBertForMaskedLM.\n",
      "\n",
      "All the weights of TFBertForMaskedLM were initialized from the PyTorch model.\n",
      "If your task is similar to the task the model of the checkpoint was trained on, you can already use TFBertForMaskedLM for predictions without further training.\n",
      "Eq iteration: 100%|██████████████████████████████████████████████████████████████████| 200/200 [41:57<00:00, 12.59s/it]\n",
      "All PyTorch model weights were used when initializing TFBertForMaskedLM.\n",
      "\n",
      "All the weights of TFBertForMaskedLM were initialized from the PyTorch model.\n",
      "If your task is similar to the task the model of the checkpoint was trained on, you can already use TFBertForMaskedLM for predictions without further training.\n",
      "Eq iteration: 100%|████████████████████████████████████████████████████████████████| 300/300 [1:44:44<00:00, 20.95s/it]\n"
     ]
    }
   ],
   "source": [
    "run(\"mBertCased\", \"google-bert/bert-base-multilingual-cased\", intepretorBERT, run=0, iterations=100)\n",
    "run(\"mBertCased\", \"google-bert/bert-base-multilingual-cased\", intepretorBERT, run=1, iterations=100)\n",
    "run(\"mBertCased\", \"google-bert/bert-base-multilingual-cased\", intepretorBERT, run=2, iterations=100)\n",
    "run(\"mBertCased\", \"google-bert/bert-base-multilingual-cased\", intepretorBERT, run=0, iterations=200)\n",
    "run(\"mBertCased\", \"google-bert/bert-base-multilingual-cased\", intepretorBERT, run=1, iterations=200)\n",
    "run(\"mBertCased\", \"google-bert/bert-base-multilingual-cased\", intepretorBERT, run=0, iterations=300)"
   ]
  },
  {
   "cell_type": "code",
   "execution_count": null,
   "id": "43690872-90e9-4dd8-ba88-9c5217c61408",
   "metadata": {},
   "outputs": [
    {
     "name": "stderr",
     "output_type": "stream",
     "text": [
      "Some weights of the PyTorch model were not used when initializing the TF 2.0 model TFBertForMaskedLM: ['bert.embeddings.position_ids']\n",
      "- This IS expected if you are initializing TFBertForMaskedLM from a PyTorch model trained on another task or with another architecture (e.g. initializing a TFBertForSequenceClassification model from a BertForPreTraining model).\n",
      "- This IS NOT expected if you are initializing TFBertForMaskedLM from a PyTorch model that you expect to be exactly identical (e.g. initializing a TFBertForSequenceClassification model from a BertForSequenceClassification model).\n",
      "All the weights of TFBertForMaskedLM were initialized from the PyTorch model.\n",
      "If your task is similar to the task the model of the checkpoint was trained on, you can already use TFBertForMaskedLM for predictions without further training.\n",
      "Eq iteration:  46%|██████████████████████████████▊                                    | 46/100 [02:29<04:06,  4.56s/it]"
     ]
    }
   ],
   "source": [
    "run(\"nbBertBase\", \"NbAiLab/nb-bert-base\", intepretorBERT, run=0, iterations=100)\n",
    "run(\"nbBertBase\", \"NbAiLab/nb-bert-base\", intepretorBERT, run=1, iterations=100)\n",
    "run(\"nbBertBase\", \"NbAiLab/nb-bert-base\", intepretorBERT, run=2, iterations=100)\n",
    "run(\"nbBertBase\", \"NbAiLab/nb-bert-base\", intepretorBERT, run=0, iterations=200)\n",
    "run(\"nbBertBase\", \"NbAiLab/nb-bert-base\", intepretorBERT, run=1, iterations=200)\n",
    "run(\"nbBertBase\", \"NbAiLab/nb-bert-base\", intepretorBERT, run=0, iterations=300)"
   ]
  },
  {
   "cell_type": "code",
   "execution_count": null,
   "id": "d2020baf-7959-47a3-8d02-c5f033fdf02f",
   "metadata": {},
   "outputs": [],
   "source": [
    "run(\"nbBertLarge\", \"NbAiLab/nb-bert-large\", intepretorBERT, run=0, iterations=100)\n",
    "run(\"nbBertLarge\", \"NbAiLab/nb-bert-large\", intepretorBERT, run=1, iterations=100)\n",
    "run(\"nbBertLarge\", \"NbAiLab/nb-bert-large\", intepretorBERT, run=2, iterations=100)\n",
    "run(\"nbBertLarge\", \"NbAiLab/nb-bert-large\", intepretorBERT, run=0, iterations=200)\n",
    "run(\"nbBertLarge\", \"NbAiLab/nb-bert-large\", intepretorBERT, run=1, iterations=200)\n",
    "run(\"nbBertLarge\", \"NbAiLab/nb-bert-large\", intepretorBERT, run=0, iterations=300)"
   ]
  },
  {
   "cell_type": "code",
   "execution_count": null,
   "id": "bdc606a5-f96d-46ac-a64e-bba4a7cee2e4",
   "metadata": {},
   "outputs": [],
   "source": [
    "run(\"norbert\", \"ltg/norbert\", intepretorBERT, run=0, iterations=100)\n",
    "run(\"norbert\", \"ltg/norbert\", intepretorBERT, run=1, iterations=100)\n",
    "run(\"norbert\", \"ltg/norbert\", intepretorBERT, run=2, iterations=100)\n",
    "run(\"norbert\", \"ltg/norbert\", intepretorBERT, run=0, iterations=200)\n",
    "run(\"norbert\", \"ltg/norbert\", intepretorBERT, run=1, iterations=200)\n",
    "run(\"norbert\", \"ltg/norbert\", intepretorBERT, run=0, iterations=300)"
   ]
  },
  {
   "cell_type": "code",
   "execution_count": null,
   "id": "b9ea2c7b-59bb-4c6a-8464-6fe97c77892a",
   "metadata": {},
   "outputs": [],
   "source": [
    "run(\"norbert2\", \"ltg/norbert2\", intepretorBERT, run=0, iterations=100)\n",
    "run(\"norbert2\", \"ltg/norbert2\", intepretorBERT, run=1, iterations=100)\n",
    "run(\"norbert2\", \"ltg/norbert2\", intepretorBERT, run=2, iterations=100)\n",
    "run(\"norbert2\", \"ltg/norbert2\", intepretorBERT, run=0, iterations=200)\n",
    "run(\"norbert2\", \"ltg/norbert2\", intepretorBERT, run=1, iterations=200)\n",
    "run(\"norbert2\", \"ltg/norbert2\", intepretorBERT, run=0, iterations=300)"
   ]
  },
  {
   "cell_type": "code",
   "execution_count": null,
   "id": "d1e09ad1-902d-439d-b0a8-5889392f2c64",
   "metadata": {},
   "outputs": [],
   "source": [
    "\n",
    "############concat\n",
    "def concatResults(writeTo, iterations):\n",
    "    filesToConcat = [f\"{writeTo}_i{iterations}_r{n}\" for n in range(2)]\n",
    "    extractHornRulesFunctions.storeCountHornRulesFiltered(f\"{writeTo}_i{iterations}\",filesToConcat)\n",
    "    extractHornRulesFunctions.storeTotalMetadata(f\"{writeTo}_i{iterations}\",filesToConcat)\n",
    "\n",
    "# concatResults(\"xlmRBase\", 100)\n",
    "# concatResults(\"xlmRLarge\", 100)\n",
    "concatResults(\"mBertUncased\", 10)\n",
    "# concatResults(\"mBertCased\", 100)\n",
    "# concatResults(\"nbBertBase\", 100)\n",
    "# concatResults(\"nbBertLarge\", 100)\n",
    "# concatResults(\"norbert\", 100)\n",
    "# concatResults(\"norbert2\", 100)"
   ]
  }
 ],
 "metadata": {
  "kernelspec": {
   "display_name": "Python 3 (ipykernel)",
   "language": "python",
   "name": "python3"
  },
  "language_info": {
   "codemirror_mode": {
    "name": "ipython",
    "version": 3
   },
   "file_extension": ".py",
   "mimetype": "text/x-python",
   "name": "python",
   "nbconvert_exporter": "python",
   "pygments_lexer": "ipython3",
   "version": "3.10.0"
  }
 },
 "nbformat": 4,
 "nbformat_minor": 5
}
