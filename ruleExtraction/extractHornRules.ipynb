{
 "cells": [
  {
   "cell_type": "code",
   "execution_count": 2,
   "id": "023609f0-9fb8-4b6c-8925-17b956742c29",
   "metadata": {},
   "outputs": [],
   "source": [
    "from hornAlgorithm import HornAlgorithm\n",
    "from intepretor import Intepretor\n",
    "import extractHornRulesFunctions\n",
    "\n",
    "age_file = \"input_data/ageValues.csv\"\n",
    "occ_file = \"input_data/occupationValues.csv\"\n",
    "cities_file = \"input_data/cityValues.csv\"\n",
    "ethnicity_file = \"input_data/ethnicityValues.csv\"\n",
    "\n",
    "filePaths = [age_file, occ_file, cities_file, ethnicity_file]\n",
    "attributes = [\"age\", \"occupation\", \"city\", \"ethnicity\"]\n",
    "neutralCases = [\"mellom 0 og 100\", \"en person\", \"en ukjent by\", \"et ukjent sted\"]\n",
    "template = \"____ er [age] år og er [occupation] fra [city] med bakgrunn fra [ethnicity].\" #noe galt med template?\n",
    "triggerTokens = [[\"hun\", \"ho\", \"kvinnen\"],[\"han\", \"mannen\"]] # [[female],[male]]\n",
    "intepretor = Intepretor(attributes, filePaths, neutralCases, template)\n",
    "lookupTableValues = intepretor.lookupTableValues + [\"kvinne\",\"mann\"] #the lookuptable flattened + kvinne and mann at end\n",
    "\n",
    "# common values for all lm's\n",
    "V = extractHornRulesFunctions.define_variables(sum(intepretor.lengths.values()) + 2)\n",
    "background = extractHornRulesFunctions.generateBackground(V, intepretor.lengths.values())\n",
    "extractHornRulesFunctions.storeBackground(background, lookupTableValues)\n",
    "templateBERT = template.replace(\"____\", \"[MASK]\")\n",
    "intepretorBERT = Intepretor(attributes, filePaths, neutralCases, templateBERT)\n",
    "\n",
    "templateROBERTA = template.replace(\"____\", \"<mask>\")\n",
    "intepretorROBERTA = Intepretor(attributes, filePaths, neutralCases, templateROBERTA)\n",
    "\n",
    "##########\n",
    "def run(writeTo, lm, intepretor, run, iterations):\n",
    "    hornAlgorithm = HornAlgorithm(intepretor, V, triggerTokens, lm) #init horn algorithm\n",
    "    metadata, h, i = hornAlgorithm.learn(iterations, background) # running the horn algorithm\n",
    "    path = f\"{writeTo}_i{i}_r{run}\"\n",
    "    extractHornRulesFunctions.storeMetadata(path,metadata) # store metadata\n",
    "    extractHornRulesFunctions.storeHornRules(path, h, lookupTableValues, drop = background) # store horn rules filtered"
   ]
  },
  {
   "cell_type": "code",
   "execution_count": null,
   "id": "aa3e01c9-760e-4339-9e55-9cb3e9b4be8e",
   "metadata": {},
   "outputs": [],
   "source": [
    "run(\"xlmRBase\", \"FacebookAI/xlm-roberta-base\", intepretorROBERTA, run=0, iterations=100)"
   ]
  },
  {
   "cell_type": "code",
   "execution_count": null,
   "id": "49f001ee-4e63-40db-8d46-f04e582322f1",
   "metadata": {},
   "outputs": [],
   "source": [
    "run(\"xlmRBase\", \"FacebookAI/xlm-roberta-base\", intepretorROBERTA, run=1, iterations=100)"
   ]
  },
  {
   "cell_type": "code",
   "execution_count": null,
   "id": "140c4ae8-518b-4c83-ac7b-182aae45f0d0",
   "metadata": {},
   "outputs": [],
   "source": [
    "run(\"xlmRBase\", \"FacebookAI/xlm-roberta-base\", intepretorROBERTA, run=2, iterations=100)"
   ]
  },
  {
   "cell_type": "code",
   "execution_count": 3,
   "id": "5a2a601d-961d-4ba0-83b4-c1d683c6fb78",
   "metadata": {},
   "outputs": [],
   "source": [
    "run(\"xlmRBase\", \"FacebookAI/xlm-roberta-base\", intepretorROBERTA, run=0, iterations=200)"
   ]
  },
  {
   "cell_type": "code",
   "execution_count": null,
   "id": "03ae8228-f3ae-4fd5-89f7-8136799539ca",
   "metadata": {},
   "outputs": [],
   "source": [
    "run(\"xlmRBase\", \"FacebookAI/xlm-roberta-base\", intepretorROBERTA, run=1, iterations=200)"
   ]
  },
  {
   "cell_type": "code",
   "execution_count": null,
   "id": "fa60321c-6c44-410e-8bcd-edff0b10a6cc",
   "metadata": {},
   "outputs": [],
   "source": [
    "run(\"xlmRBase\", \"FacebookAI/xlm-roberta-base\", intepretorROBERTA, run=0, iterations=300)"
   ]
  },
  {
   "cell_type": "code",
   "execution_count": null,
   "id": "3b26a594-a942-480c-89c6-ff50a151a4a7",
   "metadata": {},
   "outputs": [],
   "source": []
  },
  {
   "cell_type": "code",
   "execution_count": null,
   "id": "525cdc14-f12f-4054-b66e-091a2e4531a1",
   "metadata": {},
   "outputs": [],
   "source": [
    "run(\"xlmRLarge\", \"FacebookAI/xlm-roberta-large\", intepretorROBERTA, run=0, iterations=100)"
   ]
  },
  {
   "cell_type": "code",
   "execution_count": null,
   "id": "61439fd8-c1a7-4bf7-83ae-6947d81feed8",
   "metadata": {},
   "outputs": [],
   "source": [
    "run(\"xlmRLarge\", \"FacebookAI/xlm-roberta-large\", intepretorROBERTA, run=1, iterations=100)"
   ]
  },
  {
   "cell_type": "code",
   "execution_count": null,
   "id": "d5d1c2fc-aae4-4419-bac1-aef650188b62",
   "metadata": {},
   "outputs": [],
   "source": [
    "run(\"xlmRLarge\", \"FacebookAI/xlm-roberta-large\", intepretorROBERTA, run=2, iterations=100)"
   ]
  },
  {
   "cell_type": "code",
   "execution_count": null,
   "id": "a3357e75-b9c8-41a2-b271-2d774e35e16f",
   "metadata": {},
   "outputs": [],
   "source": [
    "run(\"xlmRLarge\", \"FacebookAI/xlm-roberta-large\", intepretorROBERTA, run=0, iterations=200)"
   ]
  },
  {
   "cell_type": "code",
   "execution_count": null,
   "id": "5722b528-1c88-4eaa-8c1a-1129b0f515e0",
   "metadata": {},
   "outputs": [],
   "source": [
    "run(\"xlmRLarge\", \"FacebookAI/xlm-roberta-large\", intepretorROBERTA, run=1, iterations=200)"
   ]
  },
  {
   "cell_type": "code",
   "execution_count": null,
   "id": "315bbeee-de1d-4f48-91b2-04c51cafa39e",
   "metadata": {},
   "outputs": [],
   "source": [
    "run(\"xlmRLarge\", \"FacebookAI/xlm-roberta-large\", intepretorROBERTA, run=0, iterations=300)"
   ]
  },
  {
   "cell_type": "code",
   "execution_count": null,
   "id": "a7cced6f-3b39-48a1-9aef-5de422f77878",
   "metadata": {},
   "outputs": [],
   "source": []
  },
  {
   "cell_type": "code",
   "execution_count": null,
   "id": "35b5f117-c5d0-4057-9294-ac192683525a",
   "metadata": {},
   "outputs": [],
   "source": [
    "run(\"mBertUncased\", \"google-bert/bert-base-multilingual-uncased\", intepretorBERT, run=0, iterations=100)"
   ]
  },
  {
   "cell_type": "code",
   "execution_count": null,
   "id": "7d77a6b0-b70b-4aec-bf8a-56ca4e0293c1",
   "metadata": {},
   "outputs": [],
   "source": [
    "run(\"mBertUncased\", \"google-bert/bert-base-multilingual-uncased\", intepretorBERT, run=1, iterations=100)"
   ]
  },
  {
   "cell_type": "code",
   "execution_count": null,
   "id": "8e825a0d-2fb2-40f9-8379-2d559d5ed3e0",
   "metadata": {},
   "outputs": [],
   "source": [
    "run(\"mBertUncased\", \"google-bert/bert-base-multilingual-uncased\", intepretorBERT, run=2, iterations=100)"
   ]
  },
  {
   "cell_type": "code",
   "execution_count": null,
   "id": "82da19d2-607c-4a68-b983-5691832e0c79",
   "metadata": {},
   "outputs": [],
   "source": [
    "run(\"mBertUncased\", \"google-bert/bert-base-multilingual-uncased\", intepretorBERT, run=0, iterations=200)"
   ]
  },
  {
   "cell_type": "code",
   "execution_count": null,
   "id": "bd997b5e-baab-4789-a0ba-a22655e0984c",
   "metadata": {},
   "outputs": [],
   "source": [
    "run(\"mBertUncased\", \"google-bert/bert-base-multilingual-uncased\", intepretorBERT, run=1, iterations=200)"
   ]
  },
  {
   "cell_type": "code",
   "execution_count": null,
   "id": "17baf351-6568-4487-9460-a9a4317d5873",
   "metadata": {},
   "outputs": [],
   "source": [
    "run(\"mBertUncased\", \"google-bert/bert-base-multilingual-uncased\", intepretorBERT, run=0, iterations=300)"
   ]
  },
  {
   "cell_type": "code",
   "execution_count": null,
   "id": "2e2ea794-e6dc-4d35-b35e-fba383ebb5fe",
   "metadata": {},
   "outputs": [],
   "source": []
  },
  {
   "cell_type": "code",
   "execution_count": null,
   "id": "16ffdb57-1c8e-49ad-ad73-ea22c2beae8a",
   "metadata": {},
   "outputs": [],
   "source": [
    "run(\"mBertCased\", \"google-bert/bert-base-multilingual-cased\", intepretorBERT, run=0, iterations=100)"
   ]
  },
  {
   "cell_type": "code",
   "execution_count": null,
   "id": "fd7f7cbd-4a55-4c8f-b1c9-11b4eac3230b",
   "metadata": {},
   "outputs": [],
   "source": [
    "run(\"mBertCased\", \"google-bert/bert-base-multilingual-cased\", intepretorBERT, run=1, iterations=100)"
   ]
  },
  {
   "cell_type": "code",
   "execution_count": null,
   "id": "cbce9e4e-dbfd-4a86-97fe-7895b94f60e4",
   "metadata": {},
   "outputs": [],
   "source": [
    "run(\"mBertCased\", \"google-bert/bert-base-multilingual-cased\", intepretorBERT, run=2, iterations=100)"
   ]
  },
  {
   "cell_type": "code",
   "execution_count": null,
   "id": "7f1f4445-e561-4b93-bec8-044111e95bef",
   "metadata": {},
   "outputs": [],
   "source": [
    "run(\"mBertCased\", \"google-bert/bert-base-multilingual-cased\", intepretorBERT, run=0, iterations=200)"
   ]
  },
  {
   "cell_type": "code",
   "execution_count": null,
   "id": "be7f5f3d-11b5-4d50-ac91-9bcd93c0d1de",
   "metadata": {},
   "outputs": [],
   "source": [
    "run(\"mBertCased\", \"google-bert/bert-base-multilingual-cased\", intepretorBERT, run=1, iterations=200)"
   ]
  },
  {
   "cell_type": "code",
   "execution_count": null,
   "id": "5c8cd219-bbac-4e63-81ae-cf7791f11664",
   "metadata": {},
   "outputs": [],
   "source": [
    "run(\"mBertCased\", \"google-bert/bert-base-multilingual-cased\", intepretorBERT, run=0, iterations=300)"
   ]
  },
  {
   "cell_type": "code",
   "execution_count": null,
   "id": "28a5b4e0-7bbf-416d-8c62-7c6ae93121f9",
   "metadata": {},
   "outputs": [],
   "source": []
  },
  {
   "cell_type": "code",
   "execution_count": null,
   "id": "cb8e2bb0-5015-4fb3-9f7c-03c3d088ed51",
   "metadata": {},
   "outputs": [],
   "source": [
    "run(\"nbBertBase\", \"NbAiLab/nb-bert-base\", intepretorBERT, run=0, iterations=100)"
   ]
  },
  {
   "cell_type": "code",
   "execution_count": null,
   "id": "ca4309f3-2697-4f59-9d06-8d0e7455b741",
   "metadata": {},
   "outputs": [],
   "source": [
    "run(\"nbBertBase\", \"NbAiLab/nb-bert-base\", intepretorBERT, run=1, iterations=100)"
   ]
  },
  {
   "cell_type": "code",
   "execution_count": null,
   "id": "fee74d90-18d0-4956-9dcc-99d8d554316b",
   "metadata": {},
   "outputs": [],
   "source": [
    "run(\"nbBertBase\", \"NbAiLab/nb-bert-base\", intepretorBERT, run=2, iterations=100)"
   ]
  },
  {
   "cell_type": "code",
   "execution_count": null,
   "id": "ca7f61c3-8570-4033-b174-b3d5fe8c7697",
   "metadata": {},
   "outputs": [],
   "source": [
    "run(\"nbBertBase\", \"NbAiLab/nb-bert-base\", intepretorBERT, run=0, iterations=200)"
   ]
  },
  {
   "cell_type": "code",
   "execution_count": null,
   "id": "e655a6ac-fddf-4110-b1f2-7b84a97ffea4",
   "metadata": {},
   "outputs": [],
   "source": [
    "run(\"nbBertBase\", \"NbAiLab/nb-bert-base\", intepretorBERT, run=1, iterations=200)"
   ]
  },
  {
   "cell_type": "code",
   "execution_count": null,
   "id": "52b9f18b-c6f9-4721-9cc5-7199621e5766",
   "metadata": {},
   "outputs": [],
   "source": [
    "run(\"nbBertBase\", \"NbAiLab/nb-bert-base\", intepretorBERT, run=0, iterations=300)"
   ]
  },
  {
   "cell_type": "code",
   "execution_count": null,
   "id": "8eeb5db7-3f02-4707-b74b-0d55d1f13acb",
   "metadata": {},
   "outputs": [],
   "source": []
  },
  {
   "cell_type": "code",
   "execution_count": null,
   "id": "be49ed94-1faf-4775-a401-7d3960a38420",
   "metadata": {},
   "outputs": [],
   "source": [
    "run(\"nbBertLarge\", \"NbAiLab/nb-bert-large\", intepretorBERT, run=0, iterations=100)"
   ]
  },
  {
   "cell_type": "code",
   "execution_count": null,
   "id": "d919f6bc-354a-46ec-991e-0dcdab807a82",
   "metadata": {},
   "outputs": [],
   "source": [
    "run(\"nbBertLarge\", \"NbAiLab/nb-bert-large\", intepretorBERT, run=1, iterations=100)"
   ]
  },
  {
   "cell_type": "code",
   "execution_count": null,
   "id": "f9fbedbf-ae41-4a7b-aea2-ad2610dcfb7b",
   "metadata": {},
   "outputs": [],
   "source": [
    "run(\"nbBertLarge\", \"NbAiLab/nb-bert-large\", intepretorBERT, run=2, iterations=100)"
   ]
  },
  {
   "cell_type": "code",
   "execution_count": null,
   "id": "f693604b-bd37-4926-8d39-d9b5ce99a0b4",
   "metadata": {},
   "outputs": [],
   "source": [
    "run(\"nbBertLarge\", \"NbAiLab/nb-bert-large\", intepretorBERT, run=0, iterations=200)"
   ]
  },
  {
   "cell_type": "code",
   "execution_count": null,
   "id": "4888ff24-beed-4fbf-8b96-df70cd078757",
   "metadata": {},
   "outputs": [],
   "source": [
    "run(\"nbBertLarge\", \"NbAiLab/nb-bert-large\", intepretorBERT, run=1, iterations=200)"
   ]
  },
  {
   "cell_type": "code",
   "execution_count": null,
   "id": "8506cd8f-51a7-45f9-94ad-a3730ace39ce",
   "metadata": {},
   "outputs": [],
   "source": [
    "run(\"nbBertLarge\", \"NbAiLab/nb-bert-large\", intepretorBERT, run=0, iterations=300)"
   ]
  },
  {
   "cell_type": "code",
   "execution_count": null,
   "id": "ca7c0bf2-dc53-4733-8c03-1c698f9d6ece",
   "metadata": {},
   "outputs": [],
   "source": []
  },
  {
   "cell_type": "code",
   "execution_count": null,
   "id": "6374f961-f3a3-4859-b81a-7b73f711fb8d",
   "metadata": {},
   "outputs": [],
   "source": [
    "run(\"norbert\", \"ltg/norbert\", intepretorBERT, run=0, iterations=100)"
   ]
  },
  {
   "cell_type": "code",
   "execution_count": null,
   "id": "5ce77611-58a1-47b5-9560-643cfff3049c",
   "metadata": {},
   "outputs": [],
   "source": [
    "run(\"norbert\", \"ltg/norbert\", intepretorBERT, run=1, iterations=100)"
   ]
  },
  {
   "cell_type": "code",
   "execution_count": null,
   "id": "f71e0491-e9af-418b-8f6c-998f314aa227",
   "metadata": {},
   "outputs": [],
   "source": [
    "run(\"norbert\", \"ltg/norbert\", intepretorBERT, run=2, iterations=100)"
   ]
  },
  {
   "cell_type": "code",
   "execution_count": null,
   "id": "9aed4ae4-b944-4168-840d-ca111134e0d3",
   "metadata": {},
   "outputs": [],
   "source": [
    "run(\"norbert\", \"ltg/norbert\", intepretorBERT, run=0, iterations=200)"
   ]
  },
  {
   "cell_type": "code",
   "execution_count": null,
   "id": "fa6d3858-cea6-4ee6-8397-879854d9e980",
   "metadata": {},
   "outputs": [],
   "source": [
    "run(\"norbert\", \"ltg/norbert\", intepretorBERT, run=1, iterations=200)"
   ]
  },
  {
   "cell_type": "code",
   "execution_count": null,
   "id": "12605666-74b0-4dc6-9771-587a8b9abae3",
   "metadata": {},
   "outputs": [],
   "source": [
    "run(\"norbert\", \"ltg/norbert\", intepretorBERT, run=0, iterations=300)"
   ]
  },
  {
   "cell_type": "code",
   "execution_count": null,
   "id": "f7d09eda-ad41-435e-86d4-bafee648a39d",
   "metadata": {},
   "outputs": [],
   "source": []
  },
  {
   "cell_type": "code",
   "execution_count": null,
   "id": "05180d08-9c51-4a08-8fb3-d2e7a98d6276",
   "metadata": {},
   "outputs": [],
   "source": [
    "run(\"norbert2\", \"ltg/norbert2\", intepretorBERT, run=0, iterations=100)"
   ]
  },
  {
   "cell_type": "code",
   "execution_count": null,
   "id": "7995640f-d3a2-4564-81b9-c166c23875b6",
   "metadata": {},
   "outputs": [],
   "source": [
    "run(\"norbert2\", \"ltg/norbert2\", intepretorBERT, run=1, iterations=100)"
   ]
  },
  {
   "cell_type": "code",
   "execution_count": null,
   "id": "e05dd5b7-2d61-4620-ab84-428006fd9484",
   "metadata": {},
   "outputs": [],
   "source": [
    "run(\"norbert2\", \"ltg/norbert2\", intepretorBERT, run=2, iterations=100)"
   ]
  },
  {
   "cell_type": "code",
   "execution_count": null,
   "id": "3f7092b6-2496-4247-90b4-4cd9bd3dfd23",
   "metadata": {},
   "outputs": [],
   "source": [
    "run(\"norbert2\", \"ltg/norbert2\", intepretorBERT, run=0, iterations=200)"
   ]
  },
  {
   "cell_type": "code",
   "execution_count": null,
   "id": "7ec13d03-90b6-4492-9d76-5521d0c00284",
   "metadata": {},
   "outputs": [],
   "source": [
    "run(\"norbert2\", \"ltg/norbert2\", intepretorBERT, run=1, iterations=200)"
   ]
  },
  {
   "cell_type": "code",
   "execution_count": null,
   "id": "77ea5c64-b917-4214-82c9-c528813e5880",
   "metadata": {},
   "outputs": [],
   "source": [
    "run(\"norbert2\", \"ltg/norbert2\", intepretorBERT, run=0, iterations=300)"
   ]
  }
 ],
 "metadata": {
  "kernelspec": {
   "display_name": "Python 3 (ipykernel)",
   "language": "python",
   "name": "python3"
  },
  "language_info": {
   "codemirror_mode": {
    "name": "ipython",
    "version": 3
   },
   "file_extension": ".py",
   "mimetype": "text/x-python",
   "name": "python",
   "nbconvert_exporter": "python",
   "pygments_lexer": "ipython3",
   "version": "3.10.0"
  }
 },
 "nbformat": 4,
 "nbformat_minor": 5
}
