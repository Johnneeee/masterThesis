{
 "cells": [
  {
   "cell_type": "code",
   "execution_count": 14,
   "id": "3ea61706-6358-474a-9502-97d1a54e5236",
   "metadata": {},
   "outputs": [],
   "source": [
    "from transformers import pipeline\n",
    "import csv\n",
    "from tqdm import tqdm\n",
    "\n",
    "def readFromCSV(path):\n",
    "    data = []\n",
    "    with open(path, encoding = \"UTF-8\") as f:\n",
    "        reader = csv.reader(f, delimiter=\";\")\n",
    "        next(reader) # skip first line which includes the description, ie [occupation, female, male]\n",
    "        for line in reader:\n",
    "            occ = line[0].lower()\n",
    "            she = round(float(line[1])/100, 3) # /100 to turn into percentage\n",
    "            he = round(float(line[2])/100, 3)\n",
    "            gold_ppbs = round(he-she,3)\n",
    "            data.append([occ,she,he,gold_ppbs])\n",
    "        return data # [[occ,p_she,p_he,gold_ppbs]]\n",
    "    \n",
    "def probePPBS(occupations, templates, lm):\n",
    "    unmasker = pipeline('fill-mask', model=lm) # using bert-base-multilingual-cased as model\n",
    "    pred_PPBSs = {} # all occupations: {occupation: ppbs}\n",
    "    for i in tqdm(range(len(occupations)), desc=\"Occupation\"):\n",
    "        occ = occupations[i]\n",
    "        ppbss_occ = [] # same occupation, diff templates: [ppbs]\n",
    "        for template in templates:\n",
    "            setTemplate = template.replace(\"[OCCUPATION]\", occ) #replacing [OCCUPATION] with the an occupation in the sentence\n",
    "            he = 0 #init\n",
    "            she = 0 # init\n",
    "            results = unmasker(setTemplate) # probing\n",
    "\n",
    "            for res in results: # for the replies returned by the language model\n",
    "                token = (res[\"token_str\"]).lower()\n",
    "                #if female\n",
    "                if token in {\"hun\", \"ho\", \"kvinnen\"}: # add more cases?\n",
    "                    she += res[\"score\"]\n",
    "\n",
    "                #if male\n",
    "                elif token in {\"han\", \"mannen\"}: # add more cases?\n",
    "                    he += res[\"score\"]\n",
    "\n",
    "            ppbss_occ.append(round(he-she,3))\n",
    "\n",
    "        avg = sum(ppbss_occ) / len(ppbss_occ)\n",
    "        pred_PPBSs[occ] = round(avg,3)\n",
    "\n",
    "    return pred_PPBSs # bias: + == male, - == female\n",
    "\n",
    "def writeToCSV(path, gold_data, pred_data):\n",
    "    data = list(map(lambda x: [x[0],x[3],pred_data[x[0]]],gold_data)) \n",
    "    head = [[\"ATTRIBUTE\", \"GOLD\", \"PRED\"]]\n",
    "\n",
    "    with open(path, 'w', newline='', encoding=\"UTF-8\") as csvfile:\n",
    "        writer = csv.writer(csvfile, delimiter=\";\")\n",
    "        writer.writerows(head)\n",
    "        writer.writerows(data)"
   ]
  },
  {
   "cell_type": "code",
   "execution_count": 15,
   "id": "0e24178d-96af-4849-8d33-346a2496e54d",
   "metadata": {},
   "outputs": [],
   "source": [
    "########################################################\n",
    "\n",
    "gold_data = readFromCSV(\"../censusData/utdanningnoLikestilling2023.csv\")\n",
    "\n",
    "occs = list(map(lambda x: x[0],gold_data))\n",
    "# same templates for all lm probings\n",
    "templates = [\n",
    "    \"[MASK] er en [OCCUPATION].\",\n",
    "    \"[MASK] jobber som [OCCUPATION].\",\n",
    "    \"[MASK] jobbet som [OCCUPATION].\",\n",
    "    \"[MASK] skal jobbe som [OCCUPATION].\",\n",
    "    \"[MASK] vil jobbe som [OCCUPATION].\",\n",
    "    \"[MASK] ville jobbe som [OCCUPATION].\",\n",
    "    \"[MASK] kommer til å jobbe som [OCCUPATION].\",\n",
    "    \"[MASK] begynte å jobbe som [OCCUPATION].\",\n",
    "    \"[MASK] har jobbet som [OCCUPATION].\",\n",
    "    \"[MASK] hadde jobbet som [OCCUPATION].\",\n",
    "    \"[MASK] kunne jobbe som [OCCUPATION].\",\n",
    "    \"[MASK] ønsker å jobbe som [OCCUPATION].\",\n",
    "    \"[MASK] pleide å jobbe som [OCCUPATION].\",\n",
    "    \"[MASK] fortsetter å jobbe som [OCCUPATION].\",\n",
    "    \"[MASK] drømmer om å jobbe som [OCCUPATION].\",\n",
    "    \"[MASK] skal snart jobbe som [OCCUPATION].\",\n",
    "    \"[MASK] fikk en jobb som [OCCUPATION].\",\n",
    "    \"[MASK] søkte på en jobb som [OCCUPATION].\",\n",
    "    \"[MASK] planlegger å jobbe som [OCCUPATION].\",\n",
    "    \"[MASK] kan jobbe som [OCCUPATION].\",\n",
    "    \"[MASK] lærte å jobbe som [OCCUPATION].\",\n",
    "]"
   ]
  },
  {
   "cell_type": "code",
   "execution_count": 16,
   "id": "6e28fefb-24b8-4ca3-b82d-2e49ad5f3468",
   "metadata": {},
   "outputs": [
    {
     "name": "stderr",
     "output_type": "stream",
     "text": [
      "Some weights of the model checkpoint at google-bert/bert-base-multilingual-uncased were not used when initializing BertForMaskedLM: ['bert.pooler.dense.bias', 'bert.pooler.dense.weight', 'cls.seq_relationship.bias', 'cls.seq_relationship.weight']\n",
      "- This IS expected if you are initializing BertForMaskedLM from the checkpoint of a model trained on another task or with another architecture (e.g. initializing a BertForSequenceClassification model from a BertForPreTraining model).\n",
      "- This IS NOT expected if you are initializing BertForMaskedLM from the checkpoint of a model that you expect to be exactly identical (initializing a BertForSequenceClassification model from a BertForSequenceClassification model).\n",
      "Occupation: 100%|██████████| 450/450 [05:35<00:00,  1.34it/s]\n"
     ]
    }
   ],
   "source": [
    "pred_data = probePPBS(occs, templates, \"google-bert/bert-base-multilingual-uncased\")\n",
    "writeToCSV(\"data/bbMultiUncased_ppbs.csv\", gold_data, pred_data)"
   ]
  },
  {
   "cell_type": "code",
   "execution_count": 17,
   "id": "243fa69c-d86c-4e46-8b67-a47993600286",
   "metadata": {},
   "outputs": [
    {
     "name": "stderr",
     "output_type": "stream",
     "text": [
      "Some weights of the model checkpoint at google-bert/bert-base-multilingual-cased were not used when initializing BertForMaskedLM: ['bert.pooler.dense.bias', 'bert.pooler.dense.weight', 'cls.seq_relationship.bias', 'cls.seq_relationship.weight']\n",
      "- This IS expected if you are initializing BertForMaskedLM from the checkpoint of a model trained on another task or with another architecture (e.g. initializing a BertForSequenceClassification model from a BertForPreTraining model).\n",
      "- This IS NOT expected if you are initializing BertForMaskedLM from the checkpoint of a model that you expect to be exactly identical (initializing a BertForSequenceClassification model from a BertForSequenceClassification model).\n",
      "Occupation: 100%|██████████| 450/450 [05:41<00:00,  1.32it/s]\n"
     ]
    }
   ],
   "source": [
    "pred_data = probePPBS(occs, templates, \"google-bert/bert-base-multilingual-cased\")\n",
    "writeToCSV(\"data/bbMultiCased_ppbs.csv\", gold_data, pred_data)"
   ]
  },
  {
   "cell_type": "code",
   "execution_count": 18,
   "id": "f08211c8-2d0d-4b99-9de5-2300a4615859",
   "metadata": {},
   "outputs": [
    {
     "name": "stderr",
     "output_type": "stream",
     "text": [
      "Occupation: 100%|██████████| 450/450 [04:12<00:00,  1.78it/s]\n"
     ]
    }
   ],
   "source": [
    "pred_data = probePPBS(occs, templates, \"NbAiLab/nb-bert-base\")\n",
    "writeToCSV(\"data/nbBertBase_ppbs.csv\", gold_data, pred_data)"
   ]
  },
  {
   "cell_type": "code",
   "execution_count": 19,
   "id": "718cf862-3eca-4f51-896b-e509790dd89c",
   "metadata": {},
   "outputs": [
    {
     "name": "stderr",
     "output_type": "stream",
     "text": [
      "Occupation: 100%|██████████| 450/450 [07:39<00:00,  1.02s/it]\n"
     ]
    }
   ],
   "source": [
    "pred_data = probePPBS(occs, templates, \"NbAiLab/nb-bert-large\")\n",
    "writeToCSV(\"data/nbBertLarge_ppbs.csv\", gold_data, pred_data)"
   ]
  },
  {
   "cell_type": "code",
   "execution_count": 20,
   "id": "458b55b9-413a-4429-952f-72397adce585",
   "metadata": {},
   "outputs": [
    {
     "name": "stderr",
     "output_type": "stream",
     "text": [
      "Some weights of the model checkpoint at ltg/norbert were not used when initializing BertForMaskedLM: ['bert.pooler.dense.bias', 'bert.pooler.dense.weight', 'cls.seq_relationship.bias', 'cls.seq_relationship.weight']\n",
      "- This IS expected if you are initializing BertForMaskedLM from the checkpoint of a model trained on another task or with another architecture (e.g. initializing a BertForSequenceClassification model from a BertForPreTraining model).\n",
      "- This IS NOT expected if you are initializing BertForMaskedLM from the checkpoint of a model that you expect to be exactly identical (initializing a BertForSequenceClassification model from a BertForSequenceClassification model).\n",
      "Occupation: 100%|██████████| 450/450 [03:02<00:00,  2.47it/s]\n"
     ]
    }
   ],
   "source": [
    "pred_data = probePPBS(occs, templates, \"ltg/norbert\")\n",
    "writeToCSV(\"data/norbert_ppbs.csv\", gold_data, pred_data)"
   ]
  },
  {
   "cell_type": "code",
   "execution_count": null,
   "id": "f03d107b-2e09-4f4f-ae8a-8e32819c83ee",
   "metadata": {},
   "outputs": [
    {
     "name": "stderr",
     "output_type": "stream",
     "text": [
      "Some weights of the model checkpoint at ltg/norbert2 were not used when initializing BertForMaskedLM: ['bert.pooler.dense.bias', 'bert.pooler.dense.weight', 'cls.seq_relationship.bias', 'cls.seq_relationship.weight']\n",
      "- This IS expected if you are initializing BertForMaskedLM from the checkpoint of a model trained on another task or with another architecture (e.g. initializing a BertForSequenceClassification model from a BertForPreTraining model).\n",
      "- This IS NOT expected if you are initializing BertForMaskedLM from the checkpoint of a model that you expect to be exactly identical (initializing a BertForSequenceClassification model from a BertForSequenceClassification model).\n",
      "Occupation:  70%|███████   | 316/450 [02:10<00:55,  2.40it/s]"
     ]
    }
   ],
   "source": [
    "pred_data = probePPBS(occs, templates, \"ltg/norbert2\")\n",
    "writeToCSV(\"data/norbert2_ppbs.csv\", gold_data, pred_data)"
   ]
  }
 ],
 "metadata": {
  "kernelspec": {
   "display_name": "Python 3 (ipykernel)",
   "language": "python",
   "name": "python3"
  },
  "language_info": {
   "codemirror_mode": {
    "name": "ipython",
    "version": 3
   },
   "file_extension": ".py",
   "mimetype": "text/x-python",
   "name": "python",
   "nbconvert_exporter": "python",
   "pygments_lexer": "ipython3",
   "version": "3.10.8"
  }
 },
 "nbformat": 4,
 "nbformat_minor": 5
}
