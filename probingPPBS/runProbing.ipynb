{
 "cells": [
  {
   "cell_type": "code",
   "execution_count": 1,
   "id": "7d525ab5-9d54-40e9-871f-cd4c9decb156",
   "metadata": {},
   "outputs": [
    {
     "name": "stderr",
     "output_type": "stream",
     "text": [
      "BertForMaskedLM has generative capabilities, as `prepare_inputs_for_generation` is explicitly overwritten. However, it doesn't directly inherit from `GenerationMixin`. From 👉v4.50👈 onwards, `PreTrainedModel` will NOT inherit from `GenerationMixin`, and this model will lose the ability to call `generate` and other related functions.\n",
      "  - If you're using `trust_remote_code=True`, you can get rid of this warning by loading the model with an auto class. See https://huggingface.co/docs/transformers/en/model_doc/auto#auto-classes\n",
      "  - If you are the owner of the model architecture code, please modify your model class such that it inherits from `GenerationMixin` (after `PreTrainedModel`, otherwise you'll get an exception).\n",
      "  - If you are not the owner of the model architecture class, please contact the model code owner to update it.\n",
      "Some weights of the model checkpoint at bert-base-multilingual-cased were not used when initializing BertForMaskedLM: ['bert.pooler.dense.bias', 'bert.pooler.dense.weight', 'cls.seq_relationship.bias', 'cls.seq_relationship.weight']\n",
      "- This IS expected if you are initializing BertForMaskedLM from the checkpoint of a model trained on another task or with another architecture (e.g. initializing a BertForSequenceClassification model from a BertForPreTraining model).\n",
      "- This IS NOT expected if you are initializing BertForMaskedLM from the checkpoint of a model that you expect to be exactly identical (initializing a BertForSequenceClassification model from a BertForSequenceClassification model).\n"
     ]
    }
   ],
   "source": [
    "from probing import *"
   ]
  },
  {
   "cell_type": "code",
   "execution_count": null,
   "id": "b0cb9d8f-3a17-4acb-8efd-4b68a0a5f22e",
   "metadata": {},
   "outputs": [],
   "source": [
    "c = probingPPBS(\"../censusData/utdanningnoLikestilling2023.csv\", \"bert-base-multilingual-cased\") ## you may need to change this path\n",
    "\n",
    "allAvailableOccupations = [line[0] for line in c.data]\n",
    "\n",
    "#example\n",
    "# occs = [\"kokk\", \"advokat\", \"geolog\", \"flymekaniker\"]\n",
    "templateExamples = [\"[MASK] er en [ATTRIBUTE].\",\"[MASK] jobber som en [ATTRIBUTE].\"]\n",
    "\n",
    "# [['kokk', 0.205], ['advokat', 0.383], ['geolog', 0.138], ['flymekaniker', 0.242]]\n",
    "pred = c.predictPPBS(allAvailableOccupations,templateExamples)\n",
    "\n",
    "# adding gold next to each for pred for comparason\n",
    "# [['kokk', 0.184, 0.205], ['advokat', 0.02, 0.383], ['geolog', 0.338, 0.138], ['flymekaniker', 0.886, 0.242]]\n",
    "data = list(map(lambda x: [x[0],c.goldPPBSs[x[0]],x[1]],pred)) #[[occ, gold, pred]]\n",
    "\n",
    "head = [[\"ATTRIBUTE\", \"GOLD\", \"PRED\"]]\n",
    "with open('probingPPBS_Data.csv', 'w', newline='') as csvfile:\n",
    "    writer = csv.writer(csvfile)\n",
    "    writer.writerows(head)\n",
    "    writer.writerows(data)"
   ]
  }
 ],
 "metadata": {
  "kernelspec": {
   "display_name": "Python 3 (ipykernel)",
   "language": "python",
   "name": "python3"
  },
  "language_info": {
   "codemirror_mode": {
    "name": "ipython",
    "version": 3
   },
   "file_extension": ".py",
   "mimetype": "text/x-python",
   "name": "python",
   "nbconvert_exporter": "python",
   "pygments_lexer": "ipython3",
   "version": "3.12.7"
  }
 },
 "nbformat": 4,
 "nbformat_minor": 5
}
