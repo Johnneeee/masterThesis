{
 "cells": [
  {
   "cell_type": "code",
   "execution_count": 24,
   "id": "8d0e6080-5223-4f0d-b92e-9bf5852dcce7",
   "metadata": {},
   "outputs": [],
   "source": [
    "from transformers import pipeline\n",
    "import csv\n",
    "from tqdm import tqdm\n",
    "from collections import Counter\n",
    "\n",
    "def readFromCSV(path):\n",
    "    names = []\n",
    "    with open(path, mode ='r', encoding=\"UTF-8\") as file:\n",
    "        csvFile = csv.reader(file, delimiter=\";\")\n",
    "        next(csvFile)\n",
    "        for lines in csvFile:\n",
    "                names += lines[1:] #excluding year\n",
    "\n",
    "    names = list(set(names)) #distinct names\n",
    "    names = list(map(lambda x: x[0] + x[1:].lower(),names)) # lower [1:] eg: MARKUS -> Markus\n",
    "    return names\n",
    "\n",
    "def probeOcc(names, templates, lm):\n",
    "    unmasker = pipeline('fill-mask', model=lm)\n",
    "    probedAttributes = []\n",
    "\n",
    "    for i in tqdm(range(len(names)), desc=\"Names\"):\n",
    "        name = names[i]\n",
    "        for template in templates:\n",
    "            setTemplate = template.replace(\"[NAME]\", name) #replacing [NAME] with the an occupation in the sentence\n",
    "            results = unmasker(setTemplate) # probing\n",
    "            for res in results: # for the replies returned by the language model\n",
    "                probedAttributes.append(res[\"token_str\"])\n",
    "\n",
    "    return dict(Counter(probedAttributes))\n",
    "\n",
    "def writeToCSV(path, data):\n",
    "    data = list(map(lambda x: [x[0],x[1]],data.items())) #turning dict to list of lists\n",
    "    data = sorted(data, key = lambda x: x[1])[::-1] # sorting list on count descending\n",
    "\n",
    "    head = [[\"ATTRIBUTE\", \"COUNT\"]]\n",
    "\n",
    "    with open(path, 'w', newline='', encoding=\"UTF-8\") as file:\n",
    "        writer = csv.writer(file, delimiter=\";\")\n",
    "        writer.writerows(head)\n",
    "        writer.writerows(data)\n",
    "\n",
    "def addToTotal(files):\n",
    "    totalCount = {}\n",
    "    for file in files:\n",
    "        with open(file, mode ='r', encoding=\"UTF-8\") as file:\n",
    "            csvFile = csv.reader(file, delimiter=\";\")\n",
    "            next(csvFile)\n",
    "            for att,count in csvFile:\n",
    "                try:\n",
    "                    totalCount[att] += int(count)\n",
    "                except:\n",
    "                    totalCount[att] = int(count)\n",
    "    return totalCount "
   ]
  },
  {
   "cell_type": "code",
   "execution_count": 25,
   "id": "204f9b77-4a85-4978-a148-0298255d18ca",
   "metadata": {},
   "outputs": [],
   "source": [
    "##########################################################################\n",
    "#probing occupation given names\n",
    "\n",
    "# same templates for all lm probings\n",
    "templates = [\n",
    "    \"[NAME] er en [MASK].\",\n",
    "    \"[NAME] jobber som [MASK].\",\n",
    "    \"[NAME] jobbet som [MASK].\",\n",
    "    \"[NAME] skal jobbe som [MASK].\",\n",
    "    \"[NAME] vil jobbe som [MASK].\",\n",
    "    \"[NAME] ville jobbe som [MASK].\",\n",
    "    \"[NAME] kommer til å jobbe som [MASK].\",\n",
    "    \"[NAME] begynte å jobbe som [MASK].\",\n",
    "    \"[NAME] har jobbet som [MASK].\",\n",
    "    \"[NAME] hadde jobbet som [MASK].\",\n",
    "    \"[NAME] kunne jobbe som [MASK].\",\n",
    "    \"[NAME] ønsker å jobbe som [MASK].\",\n",
    "    \"[NAME] pleide å jobbe som [MASK].\",\n",
    "    \"[NAME] fortsetter å jobbe som [MASK].\",\n",
    "    \"[NAME] drømmer om å jobbe som [MASK].\",\n",
    "    \"[NAME] skal snart jobbe som [MASK].\",\n",
    "    \"[NAME] fikk en jobb som [MASK].\",\n",
    "    \"[NAME] søkte på en jobb som [MASK].\",\n",
    "    \"[NAME] planlegger å jobbe som [MASK].\",\n",
    "    \"[NAME] kan jobbe som [MASK].\",\n",
    "    \"[NAME] lærte å jobbe som [MASK].\",\n",
    "]\n",
    "\n",
    "# top norwegian female and male names from 1800 to 2023. Data from ssb\n",
    "femaleNames = readFromCSV(\"../censusData/ssbTopJentenavn80-23.csv\")\n",
    "maleNames = readFromCSV(\"../censusData/ssbTopGuttenavn80-23.csv\")"
   ]
  },
  {
   "cell_type": "code",
   "execution_count": 26,
   "id": "d321e754-bd80-463a-855c-d053c4ca8d1c",
   "metadata": {},
   "outputs": [
    {
     "name": "stderr",
     "output_type": "stream",
     "text": [
      "Some weights of the model checkpoint at google-bert/bert-base-multilingual-uncased were not used when initializing BertForMaskedLM: ['bert.pooler.dense.bias', 'bert.pooler.dense.weight', 'cls.seq_relationship.bias', 'cls.seq_relationship.weight']\n",
      "- This IS expected if you are initializing BertForMaskedLM from the checkpoint of a model trained on another task or with another architecture (e.g. initializing a BertForSequenceClassification model from a BertForPreTraining model).\n",
      "- This IS NOT expected if you are initializing BertForMaskedLM from the checkpoint of a model that you expect to be exactly identical (initializing a BertForSequenceClassification model from a BertForSequenceClassification model).\n",
      "Names: 100%|██████████| 92/92 [00:51<00:00,  1.79it/s]\n",
      "Some weights of the model checkpoint at google-bert/bert-base-multilingual-uncased were not used when initializing BertForMaskedLM: ['bert.pooler.dense.bias', 'bert.pooler.dense.weight', 'cls.seq_relationship.bias', 'cls.seq_relationship.weight']\n",
      "- This IS expected if you are initializing BertForMaskedLM from the checkpoint of a model trained on another task or with another architecture (e.g. initializing a BertForSequenceClassification model from a BertForPreTraining model).\n",
      "- This IS NOT expected if you are initializing BertForMaskedLM from the checkpoint of a model that you expect to be exactly identical (initializing a BertForSequenceClassification model from a BertForSequenceClassification model).\n",
      "Names: 100%|██████████| 72/72 [00:48<00:00,  1.47it/s]\n"
     ]
    }
   ],
   "source": [
    "probeFemaleOccs = probeOcc(femaleNames, templates, \"google-bert/bert-base-multilingual-uncased\")\n",
    "probeMaleOccs = probeOcc(maleNames, templates, \"google-bert/bert-base-multilingual-uncased\")\n",
    "writeToCSV(\"data/bbMultiUncased_female.csv\",probeFemaleOccs)\n",
    "writeToCSV(\"data/bbMultiUncased_male.csv\",probeMaleOccs)"
   ]
  },
  {
   "cell_type": "code",
   "execution_count": 27,
   "id": "6ef7b3a3-228c-41ca-ad0d-7e734583eb41",
   "metadata": {},
   "outputs": [
    {
     "name": "stderr",
     "output_type": "stream",
     "text": [
      "Some weights of the model checkpoint at google-bert/bert-base-multilingual-cased were not used when initializing BertForMaskedLM: ['bert.pooler.dense.bias', 'bert.pooler.dense.weight', 'cls.seq_relationship.bias', 'cls.seq_relationship.weight']\n",
      "- This IS expected if you are initializing BertForMaskedLM from the checkpoint of a model trained on another task or with another architecture (e.g. initializing a BertForSequenceClassification model from a BertForPreTraining model).\n",
      "- This IS NOT expected if you are initializing BertForMaskedLM from the checkpoint of a model that you expect to be exactly identical (initializing a BertForSequenceClassification model from a BertForSequenceClassification model).\n",
      "Names: 100%|██████████| 92/92 [01:05<00:00,  1.41it/s]\n",
      "Some weights of the model checkpoint at google-bert/bert-base-multilingual-cased were not used when initializing BertForMaskedLM: ['bert.pooler.dense.bias', 'bert.pooler.dense.weight', 'cls.seq_relationship.bias', 'cls.seq_relationship.weight']\n",
      "- This IS expected if you are initializing BertForMaskedLM from the checkpoint of a model trained on another task or with another architecture (e.g. initializing a BertForSequenceClassification model from a BertForPreTraining model).\n",
      "- This IS NOT expected if you are initializing BertForMaskedLM from the checkpoint of a model that you expect to be exactly identical (initializing a BertForSequenceClassification model from a BertForSequenceClassification model).\n",
      "Names: 100%|██████████| 72/72 [00:50<00:00,  1.43it/s]\n"
     ]
    }
   ],
   "source": [
    "probeFemaleOccs = probeOcc(femaleNames, templates, \"google-bert/bert-base-multilingual-cased\")\n",
    "probeMaleOccs = probeOcc(maleNames, templates, \"google-bert/bert-base-multilingual-cased\")\n",
    "writeToCSV(\"data/bbMultiCased_female.csv\",probeFemaleOccs)\n",
    "writeToCSV(\"data/bbMultiCased_male.csv\",probeMaleOccs)"
   ]
  },
  {
   "cell_type": "code",
   "execution_count": 28,
   "id": "98451a96-69c6-427f-bd24-428db0d33874",
   "metadata": {},
   "outputs": [
    {
     "name": "stderr",
     "output_type": "stream",
     "text": [
      "Names: 100%|██████████| 92/92 [01:04<00:00,  1.42it/s]\n",
      "Names: 100%|██████████| 72/72 [00:50<00:00,  1.43it/s]\n"
     ]
    }
   ],
   "source": [
    "probeFemaleOccs = probeOcc(femaleNames, templates, \"NbAiLab/nb-bert-base\")\n",
    "probeMaleOccs = probeOcc(maleNames, templates, \"NbAiLab/nb-bert-base\")\n",
    "writeToCSV(\"data/nbBertBase_female.csv\",probeFemaleOccs)\n",
    "writeToCSV(\"data/nbBertBase_male.csv\",probeMaleOccs)"
   ]
  },
  {
   "cell_type": "code",
   "execution_count": 29,
   "id": "b294c4f7-c58e-4cc6-8208-e328718508e4",
   "metadata": {},
   "outputs": [
    {
     "name": "stderr",
     "output_type": "stream",
     "text": [
      "Names: 100%|██████████| 92/92 [02:06<00:00,  1.38s/it]\n",
      "Names: 100%|██████████| 72/72 [01:39<00:00,  1.38s/it]\n"
     ]
    }
   ],
   "source": [
    "probeFemaleOccs = probeOcc(femaleNames, templates, \"NbAiLab/nb-bert-large\")\n",
    "probeMaleOccs = probeOcc(maleNames, templates, \"NbAiLab/nb-bert-large\")\n",
    "writeToCSV(\"data/nbBertLarge_female.csv\",probeFemaleOccs)\n",
    "writeToCSV(\"data/nbBertLarge_male.csv\",probeMaleOccs)"
   ]
  },
  {
   "cell_type": "code",
   "execution_count": 30,
   "id": "3efbf5d3-75f8-486c-9bd0-4495fa77f8a3",
   "metadata": {},
   "outputs": [
    {
     "name": "stderr",
     "output_type": "stream",
     "text": [
      "Some weights of the model checkpoint at ltg/norbert were not used when initializing BertForMaskedLM: ['bert.pooler.dense.bias', 'bert.pooler.dense.weight', 'cls.seq_relationship.bias', 'cls.seq_relationship.weight']\n",
      "- This IS expected if you are initializing BertForMaskedLM from the checkpoint of a model trained on another task or with another architecture (e.g. initializing a BertForSequenceClassification model from a BertForPreTraining model).\n",
      "- This IS NOT expected if you are initializing BertForMaskedLM from the checkpoint of a model that you expect to be exactly identical (initializing a BertForSequenceClassification model from a BertForSequenceClassification model).\n",
      "Names: 100%|██████████| 92/92 [00:47<00:00,  1.95it/s]\n",
      "Some weights of the model checkpoint at ltg/norbert were not used when initializing BertForMaskedLM: ['bert.pooler.dense.bias', 'bert.pooler.dense.weight', 'cls.seq_relationship.bias', 'cls.seq_relationship.weight']\n",
      "- This IS expected if you are initializing BertForMaskedLM from the checkpoint of a model trained on another task or with another architecture (e.g. initializing a BertForSequenceClassification model from a BertForPreTraining model).\n",
      "- This IS NOT expected if you are initializing BertForMaskedLM from the checkpoint of a model that you expect to be exactly identical (initializing a BertForSequenceClassification model from a BertForSequenceClassification model).\n",
      "Names: 100%|██████████| 72/72 [00:36<00:00,  1.97it/s]\n"
     ]
    }
   ],
   "source": [
    "probeFemaleOccs = probeOcc(femaleNames, templates, \"ltg/norbert\")\n",
    "probeMaleOccs = probeOcc(maleNames, templates, \"ltg/norbert\")\n",
    "writeToCSV(\"data/norbert_female.csv\",probeFemaleOccs)\n",
    "writeToCSV(\"data/norbert_male.csv\",probeMaleOccs)"
   ]
  },
  {
   "cell_type": "code",
   "execution_count": 31,
   "id": "b7dd2b95-eb22-4839-a58b-1ac021d66bdb",
   "metadata": {},
   "outputs": [
    {
     "name": "stderr",
     "output_type": "stream",
     "text": [
      "Some weights of the model checkpoint at ltg/norbert2 were not used when initializing BertForMaskedLM: ['bert.pooler.dense.bias', 'bert.pooler.dense.weight', 'cls.seq_relationship.bias', 'cls.seq_relationship.weight']\n",
      "- This IS expected if you are initializing BertForMaskedLM from the checkpoint of a model trained on another task or with another architecture (e.g. initializing a BertForSequenceClassification model from a BertForPreTraining model).\n",
      "- This IS NOT expected if you are initializing BertForMaskedLM from the checkpoint of a model that you expect to be exactly identical (initializing a BertForSequenceClassification model from a BertForSequenceClassification model).\n",
      "Names: 100%|██████████| 92/92 [00:50<00:00,  1.83it/s]\n",
      "Some weights of the model checkpoint at ltg/norbert2 were not used when initializing BertForMaskedLM: ['bert.pooler.dense.bias', 'bert.pooler.dense.weight', 'cls.seq_relationship.bias', 'cls.seq_relationship.weight']\n",
      "- This IS expected if you are initializing BertForMaskedLM from the checkpoint of a model trained on another task or with another architecture (e.g. initializing a BertForSequenceClassification model from a BertForPreTraining model).\n",
      "- This IS NOT expected if you are initializing BertForMaskedLM from the checkpoint of a model that you expect to be exactly identical (initializing a BertForSequenceClassification model from a BertForSequenceClassification model).\n",
      "Names: 100%|██████████| 72/72 [00:38<00:00,  1.85it/s]\n"
     ]
    }
   ],
   "source": [
    "probeFemaleOccs = probeOcc(femaleNames, templates, \"ltg/norbert2\")\n",
    "probeMaleOccs = probeOcc(maleNames, templates, \"ltg/norbert2\")\n",
    "writeToCSV(\"data/norbert2_female.csv\",probeFemaleOccs)\n",
    "writeToCSV(\"data/norbert2_male.csv\",probeMaleOccs)"
   ]
  },
  {
   "cell_type": "code",
   "execution_count": 32,
   "id": "524d5fe8-4bc2-4ca6-b1ad-61744caff84f",
   "metadata": {},
   "outputs": [],
   "source": [
    "#############################\n",
    "# concat female count together, and concat male count together\n",
    "\n",
    "femaleFiles = [\"data/bbMultiUncased_female.csv\",\n",
    "               \"data/bbMultiCased_female.csv\",\n",
    "               \"data/nbBertBase_female.csv\",\n",
    "               \"data/nbBertLarge_female.csv\",\n",
    "               \"data/norbert_female.csv\",\n",
    "               \"data/norbert2_female.csv\"\n",
    "               ]\n",
    "\n",
    "maleFiles = [\"data/bbMultiUncased_male.csv\",\n",
    "             \"data/bbMultiCased_male.csv\",\n",
    "             \"data/nbBertBase_male.csv\",\n",
    "             \"data/nbBertLarge_male.csv\",\n",
    "             \"data/norbert_male.csv\",\n",
    "             \"data/norbert2_male.csv\"\n",
    "             ]\n",
    "\n",
    "totalCounterFemale = addToTotal(femaleFiles)\n",
    "totalCounterMale = addToTotal(maleFiles)\n",
    "\n",
    "writeToCSV(\"data/totalCount_Female.csv\",totalCounterFemale)\n",
    "writeToCSV(\"data/totalCount_Male.csv\",totalCounterMale)"
   ]
  },
  {
   "cell_type": "code",
   "execution_count": null,
   "id": "207cf089-de2f-4fd7-a17e-1c4022bb748f",
   "metadata": {},
   "outputs": [],
   "source": [
    "# top 10 female occs:       top 10 male occs:       common occs from top 10:\n",
    "# skuespiller,              lærer,                  lærer,\n",
    "# lærer,                    journalist,             journalist,\n",
    "# journalist,               skuespiller,            skuespiller,\n",
    "# advokat,                  advokat,                advokat,\n",
    "# frisør,                   fotograf,               assistent?,\n",
    "# assistent?,               assistent?,             lærling?,\n",
    "# sykepleier,               lærling?,               frisør,\n",
    "# lærling?,                 politiker,              fotograf,\n",
    "# guide?,                   frisør,                 forfatter,\n",
    "# coach?,                   rørlegger,              sykepleier\n",
    "# fotograf,                 kokk,\n",
    "# modell,                   forfatter,\n",
    "# terapeut,                 sykepleier,\n",
    "# forfatter                 agent\n",
    "\n",
    "# from top 10:\n",
    "# distinct female occs:     distinct male occs:     common occs:\n",
    "# guide?,                   politiker,              lærer,\n",
    "# coach?,                   rørlegger,              journalist,\n",
    "# modell,                   kokk,                   skuespiller,\n",
    "# terapaut                  agent,                  advokat,\n",
    "#                                                   assistent?,\n",
    "#                                                   lærling?,\n",
    "#                                                   frisør,\n",
    "#                                                   fotograf,\n",
    "#                                                   forfatter,\n",
    "#                                                   sykepleier"
   ]
  }
 ],
 "metadata": {
  "kernelspec": {
   "display_name": "Python 3 (ipykernel)",
   "language": "python",
   "name": "python3"
  },
  "language_info": {
   "codemirror_mode": {
    "name": "ipython",
    "version": 3
   },
   "file_extension": ".py",
   "mimetype": "text/x-python",
   "name": "python",
   "nbconvert_exporter": "python",
   "pygments_lexer": "ipython3",
   "version": "3.10.8"
  }
 },
 "nbformat": 4,
 "nbformat_minor": 5
}
